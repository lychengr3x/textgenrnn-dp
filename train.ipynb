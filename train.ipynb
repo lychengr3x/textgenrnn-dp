{
 "cells": [
  {
   "cell_type": "code",
   "execution_count": 1,
   "metadata": {
    "colab": {
     "base_uri": "https://localhost:8080/",
     "height": 35
    },
    "colab_type": "code",
    "id": "KBkpRgBCBS2_",
    "outputId": "ed44586e-77d4-4a9b-f447-caab8c9403f4"
   },
   "outputs": [
    {
     "name": "stderr",
     "output_type": "stream",
     "text": [
      "Using TensorFlow backend.\n"
     ]
    }
   ],
   "source": [
    "# from textgenrnn.gradient_noise import add_gradient_noise\n",
    "from textgenrnn import textgenrnn\n",
    "from datetime import datetime\n",
    "import os"
   ]
  },
  {
   "cell_type": "markdown",
   "metadata": {},
   "source": [
    "## Check GPU"
   ]
  },
  {
   "cell_type": "code",
   "execution_count": 2,
   "metadata": {},
   "outputs": [
    {
     "data": {
      "text/plain": [
       "[PhysicalDevice(name='/physical_device:GPU:0', device_type='GPU')]"
      ]
     },
     "execution_count": 2,
     "metadata": {},
     "output_type": "execute_result"
    }
   ],
   "source": [
    "import tensorflow as tf\n",
    "tf.config.list_physical_devices('GPU')"
   ]
  },
  {
   "cell_type": "markdown",
   "metadata": {},
   "source": [
    "## Training"
   ]
  },
  {
   "cell_type": "markdown",
   "metadata": {
    "colab_type": "text",
    "id": "0wXB05bPDYxS"
   },
   "source": [
    "Set the textgenrnn model configuration here: the default parameters here give good results for most workflows. (see the [demo notebook](https://github.com/minimaxir/textgenrnn/blob/master/docs/textgenrnn-demo.ipynb) for more information about these parameters)\n",
    "\n",
    "If you are using an input file where documents are line-delimited, make sure to set `line_delimited` to `True`."
   ]
  },
  {
   "cell_type": "code",
   "execution_count": 6,
   "metadata": {
    "colab": {},
    "colab_type": "code",
    "id": "P8wSlgXoDPCR"
   },
   "outputs": [],
   "source": [
    "model_cfg = {\n",
    "    'word_level': True,   # set to True if want to train a word-level model (requires more data and smaller max_length)\n",
    "    'rnn_size': 128,   # number of LSTM cells of each layer (128/256 recommended)\n",
    "    'rnn_layers': 3,   # number of LSTM layers (>=2 recommended)\n",
    "    'rnn_bidirectional': False,   # consider text both forwards and backward, can give a training boost\n",
    "    'max_length': 30,   # number of tokens to consider before predicting the next (20-40 for characters, 5-10 for words recommended)\n",
    "    'max_words': 10000,   # maximum number of words to model; the rest will be ignored (word-level model only)\n",
    "}\n",
    "\n",
    "train_cfg = {\n",
    "    'line_delimited': True,   # set to True if each text has its own line in the source file\n",
    "    'num_epochs': 10,   # set higher to train the model for longer\n",
    "    'gen_epochs': 1,   # generates sample text from model after given number of epochs\n",
    "    'train_size': 0.8,   # proportion of input data to train on: setting < 1.0 limits model from learning perfectly\n",
    "    'dropout': 0.0,   # ignore a random proportion of source tokens each epoch, allowing model to generalize better\n",
    "    'validation': True,   # If train__size < 1.0, test on holdout dataset; will make overall training slower\n",
    "    'is_csv': False,   # set to True if file is a CSV exported from Excel/BigQuery/pandas\n",
    "    'multi_gpu': False,\n",
    "    'dp': True,\n",
    "    'noise_eta': 0.2, \n",
    "    'noise_gamma': 0.55,\n",
    "    'clipnorm': 1.0,\n",
    "}"
   ]
  },
  {
   "cell_type": "markdown",
   "metadata": {
    "colab_type": "text",
    "id": "BT__brhBCvJu"
   },
   "source": [
    "In the Colaboratory Notebook sidebar on the left of the screen, select *Files*. From there you can upload files:\n",
    "\n",
    "![alt text](https://i.imgur.com/TGcZT4h.png)\n",
    "\n",
    "Upload **any text file** and update the file name in the cell below, then run the cell."
   ]
  },
  {
   "cell_type": "code",
   "execution_count": 8,
   "metadata": {
    "colab": {},
    "colab_type": "code",
    "id": "6OFnPCLADfll"
   },
   "outputs": [],
   "source": [
    "file_name = \"data/ptb.train.txt\"\n",
    "model_name = 'models/eta_02/eta_0.2_gamma_0.55_clip_1'   # change to set file name of resulting trained models/texts"
   ]
  },
  {
   "cell_type": "markdown",
   "metadata": {
    "colab_type": "text",
    "id": "LdpZQXknFNY3"
   },
   "source": [
    "The next cell will start the actual training. And thanks to the power of Keras's CuDNN layers, training is super-fast when compared to CPU training on a local machine!\n",
    "\n",
    "Ideally, you want a training loss less than `1.0` in order for the model to create sensible text consistently."
   ]
  },
  {
   "cell_type": "code",
   "execution_count": 10,
   "metadata": {
    "colab": {
     "base_uri": "https://localhost:8080/",
     "height": 8881
    },
    "colab_type": "code",
    "id": "aeXshJM-Cuaf",
    "outputId": "ac86ffe4-729f-4555-df4a-fa0ced5e1670",
    "scrolled": true
   },
   "outputs": [
    {
     "name": "stdout",
     "output_type": "stream",
     "text": [
      "42,067 texts collected.\n",
      "Training new model w/ 3-layer, 128-cell LSTMs\n",
      "Implement differential privacy\n",
      "noise_eta: 0.2\n",
      "noise_gamma: 0.55\n",
      "clipnorm: 1.0\n",
      "Training on 854,826 word sequences.\n",
      "WARNING:tensorflow:sample_weight modes were coerced from\n",
      "  ...\n",
      "    to  \n",
      "  ['...']\n",
      "WARNING:tensorflow:sample_weight modes were coerced from\n",
      "  ...\n",
      "    to  \n",
      "  ['...']\n",
      "Train for 834 steps, validate for 209 steps\n",
      "Epoch 1/10\n",
      "833/834 [============================>.] - ETA: 0s - loss: 5.8414####################\n",
      "Temperature: 0.2\n",
      "####################\n",
      "the company said it was n'be sold the n'\n",
      "\n",
      "the company said it expects to $n million or $n a share a $n million\n",
      "\n",
      "the company said it expects to $n million or $n a share a share\n",
      "\n",
      "####################\n",
      "Temperature: 0.5\n",
      "####################\n",
      "the patent who was the n's a criminal number of the n's\n",
      "\n",
      "the new york city's resignation bush was a lot of of the political and of the country\n",
      "\n",
      "the company said it expects to $n million of $n million of $n million\n",
      "\n",
      "####################\n",
      "Temperature: 1.0\n",
      "####################\n",
      "predictions is expected to sell the bank of three jobs\n",
      "\n",
      "three days n minutes to mesa named of individuals and are being the in case of the foundation that world jury could be sold averaged n bankruptcy protection because of its sluggish revenue and investors buy fines down $n million nyse had been offered year before the year ago under its london\n",
      "\n",
      "abrams in his business functions insists marketing\n",
      "\n",
      "834/834 [==============================] - 137s 165ms/step - loss: 5.8405 - val_loss: 5.2414\n",
      "Epoch 2/10\n",
      "833/834 [============================>.] - ETA: 0s - loss: 4.8687####################\n",
      "Temperature: 0.2\n",
      "####################\n",
      "the company said it will be sold to $n million in the company's largest cable and and businesses\n",
      "\n",
      "the company said it will be sold to $n million\n",
      "\n",
      "the company said it will be sold to its offer to $n million\n",
      "\n",
      "####################\n",
      "Temperature: 0.5\n",
      "####################\n",
      "i'd seen the of the nation's n n\n",
      "\n",
      "the company will be a share on a n n basis since n n n n n in the year\n",
      "\n",
      "the pilots are n'disclosed\n",
      "\n",
      "####################\n",
      "Temperature: 1.0\n",
      "####################\n",
      "a combined treasury n of n n marks n a day after friday were n five to a close at $n n n\n",
      "\n",
      "and because the plan strictly issue investor marvin drilling corp new introduced suffered it a expensive computer services that was established that its will remain and possibly ready to produce control before the suit\n",
      "\n",
      "such bids totaling the n people were already when china began to resign in neighborhoods with seats for each year\n",
      "\n",
      "834/834 [==============================] - 128s 154ms/step - loss: 4.8683 - val_loss: 4.9662\n",
      "Epoch 3/10\n",
      "833/834 [============================>.] - ETA: 0s - loss: 4.4648####################\n",
      "Temperature: 0.2\n",
      "####################\n",
      "the company said it will sell its stake in the company\n",
      "\n",
      "the company said it will sell its stake in n n of its common shares outstanding\n",
      "\n",
      "the company said it is n'expected to be determined\n",
      "\n",
      "####################\n",
      "Temperature: 0.5\n",
      "####################\n",
      "the company has been notified by the company and other exchanges\n",
      "\n",
      "the company's profit motive is an effective n n drop in the company's a share of a n n rise in the third quarter\n",
      "\n",
      "the state department said the company had a loss of $n million or n cents a share\n",
      "\n",
      "####################\n",
      "Temperature: 1.0\n",
      "####################\n",
      "the following loans to the higher rate of the loans sold in the company that each is also financially risky giant wanting to expand the resistance from another industrial\n",
      "\n",
      "we are indeed like hand fail to do this if you ca n'like prosecutorial\n",
      "\n",
      "a spokesman said board owns about space credit has yet been retained it in february n airbus and medical purchases\n",
      "\n",
      "834/834 [==============================] - 129s 154ms/step - loss: 4.4647 - val_loss: 4.8655\n",
      "Epoch 4/10\n",
      "833/834 [============================>.] - ETA: 0s - loss: 4.1532####################\n",
      "Temperature: 0.2\n",
      "####################\n",
      "the company said it will take a n n stake in the company\n",
      "\n",
      "the company said it will report a loss for the sale of its first quarter as a n n increase in the third quarter\n",
      "\n",
      "the company said it will be acquired by the sale of its unit of its unit in the u s and canada\n",
      "\n",
      "####################\n",
      "Temperature: 0.5\n",
      "####################\n",
      "the u s's representative in china said the preliminary payment of the n n plunge in the u s benchmark n n n n bond due n n n auction short closing n n five months n n n\n",
      "\n",
      "the company said it will take a unusual step in its n n stake in the u s and europe\n",
      "\n",
      "the company has n'been approached by the company\n",
      "\n",
      "####################\n",
      "Temperature: 1.0\n",
      "####################\n",
      "cane & r stein said its international business whose ratings closed by continued significantly higher than in the third quarter rose to $n million or n cents a share from $n\n",
      "\n",
      "the cost of $n million on amounts of a beer company shell a unit of money\n",
      "\n",
      "so did n'part what was annually\n",
      "\n",
      "834/834 [==============================] - 133s 160ms/step - loss: 4.1533 - val_loss: 4.8728\n",
      "Epoch 5/10\n",
      "833/834 [============================>.] - ETA: 0s - loss: 3.8666####################\n",
      "Temperature: 0.2\n",
      "####################\n",
      "the company said it will sell its $n million in cash and securities and exchange commission filing said\n",
      "\n",
      "the company said the company expects to post earnings for the quarter\n",
      "\n",
      "the company said it will sell its $n million to $n million in the next year\n",
      "\n",
      "####################\n",
      "Temperature: 0.5\n",
      "####################\n",
      "the company said it was n'disclosed\n",
      "\n",
      "the company said it expects to complete its quarterly dividend and it will take over the next year and the company's $n million\n",
      "\n",
      "the company said it expects to post a n n increase in n\n",
      "\n",
      "####################\n",
      "Temperature: 1.0\n",
      "####################\n",
      "because of other things is budget gains along the world of the economy and is the fledgling team it violates the balance sheet\n",
      "\n",
      "any depends on the entirely natural materials stein and is by intelogic provides misleading financial problems in acquiring ag in rival membership on sales for the proposed fiscal year\n",
      "\n",
      "general motors corp campbell's industry n is aware of the management and run it has n'says\n",
      "\n",
      "834/834 [==============================] - 130s 156ms/step - loss: 3.8664 - val_loss: 4.9114\n",
      "Epoch 6/10\n",
      "833/834 [============================>.] - ETA: 0s - loss: 3.5227- ETA: 1s - ####################\n",
      "Temperature: 0.2\n",
      "####################\n",
      "the company said it will raise $n million to $n million in cash and reserves for the sale of the company's proposed $n million\n",
      "\n",
      "the company said it expects to post a n n increase in third quarter earnings for the first quarter\n",
      "\n",
      "the company said it will sell its n n stake in the new york based in the new york office\n",
      "\n",
      "####################\n",
      "Temperature: 0.5\n",
      "####################\n",
      "the new company's shareholder which has been expected to eliminate about n n of its shares outstanding\n",
      "\n",
      "it is the best known as the of the center\n",
      "\n",
      "the administration has been a comprehensive ban on the southern states that the u s wants to aid is the soviets's independence from action\n",
      "\n",
      "####################\n",
      "Temperature: 1.0\n",
      "####################\n",
      "michael evans had the company's image agent a stake in texas air transportation co a unit of toronto corp each for a $n billion cash at the $n billion sale will end a month's share down n cents\n",
      "\n",
      "so they age watch the brushed for a specified\n",
      "\n",
      "puts announcement that nothing of n different rules are routinely the figure out of that she was too choices than ever\n",
      "\n",
      "834/834 [==============================] - 125s 150ms/step - loss: 3.5223 - val_loss: 5.1054\n",
      "Epoch 7/10\n",
      "833/834 [============================>.] - ETA: 0s - loss: 3.2539####################\n",
      "Temperature: 0.2\n",
      "####################\n",
      "the company said it will sell the n n stake in the venture\n",
      "\n",
      "the company said it will redeem the $n billion in debt swap between n n and n n of the company's common stock\n",
      "\n",
      "the company said it will sell the n n stake in the venture\n",
      "\n",
      "####################\n",
      "Temperature: 0.5\n",
      "####################\n",
      "the government has been attempting to seek a temporary treaty with the pilots'pay parity clause\n",
      "\n",
      "the company said it will create a n n stake in the u s market share\n",
      "\n",
      "the company reiterated yesterday that the government accepted that the deloitte agreed not entirely as the british bank of the weekend to the british company's setting stage forge a strain of in the british luxury car maker\n",
      "\n",
      "####################\n",
      "Temperature: 1.0\n",
      "####################\n"
     ]
    },
    {
     "name": "stdout",
     "output_type": "stream",
     "text": [
      "volume totaled n shares a minute\n",
      "\n",
      "the equity is expected to close class in a year and mortgage offer and $n a share down\n",
      "\n",
      "the chance apparently pointed their income\n",
      "\n",
      "834/834 [==============================] - 141s 169ms/step - loss: 3.2536 - val_loss: 5.2212\n",
      "Epoch 8/10\n",
      "833/834 [============================>.] - ETA: 0s - loss: 3.0483####################\n",
      "Temperature: 0.2\n",
      "####################\n",
      "the company said it will registration to buy back as many as n million shares of honeywell stock said\n",
      "\n",
      "the company said it will registration with the sale of its fleet of n to n n and n n of the u s market share\n",
      "\n",
      "the company said it expects to use the proceeds to reduce the debt market for the n n of the company's n million common shares outstanding\n",
      "\n",
      "####################\n",
      "Temperature: 0.5\n",
      "####################\n",
      "volokh is a good job of making a project that would like a to defend himself from the convicted of her brother's wife\n",
      "\n",
      "the company has offered to $n million through the notes and then handles it it has n'fully complete\n",
      "\n",
      "but the company's earnings decline reflected a slower growth and competitive position\n",
      "\n",
      "####################\n",
      "Temperature: 1.0\n",
      "####################\n",
      "at the station in sohmer seems to be back to this battle once again when he started out of heavy in line in the middle and black leaders on which he would n n years\n",
      "\n",
      "we'looking over the beginning in any social wife\n",
      "\n",
      "dinkins has been to a floor vote last summer by one morning more angry with aliens was afraid to make his job for the air force rose his or mandatory pro bono charges address in\n",
      "\n",
      "834/834 [==============================] - 130s 156ms/step - loss: 3.0482 - val_loss: 5.3002\n",
      "Epoch 9/10\n",
      "833/834 [============================>.] - ETA: 0s - loss: 2.8797####################\n",
      "Temperature: 0.2\n",
      "####################\n",
      "the company said it will sell its $n million to $n million in cash and reserves against the company's proposed recapitalization\n",
      "\n",
      "the company said it will registration with the sale of its n n recapitalization plan to pay $n million in the first n n through n years\n",
      "\n",
      "the company said it will registration to buy back the equivalent of n n of its common shares outstanding\n",
      "\n",
      "####################\n",
      "Temperature: 0.5\n",
      "####################\n",
      "the economy is also a classic situation that is very conservative appearances that and the industry's most important remains\n",
      "\n",
      "the company said it will receive one of the $n million in bank financing for the three year ending march n n of the total\n",
      "\n",
      "the number of stocks and the nasdaq exceeds $n billion for the year ended up n n\n",
      "\n",
      "####################\n",
      "Temperature: 1.0\n",
      "####################\n",
      "turner turner broadcasting broadcasting corp chairman peter agreed that the fbi had been in violation of this oil violation of the outstanding fourth quarter\n",
      "\n",
      "officials are also tentatively hired to securities and medical procedures as apple\n",
      "\n",
      "here is the very beginning of their characters'using some tough tasks is an overhead and what she did n'post earnings he was done by former\n",
      "\n",
      "834/834 [==============================] - 129s 155ms/step - loss: 2.8797 - val_loss: 5.3616\n",
      "Epoch 10/10\n",
      "833/834 [============================>.] - ETA: 0s - loss: 2.7381####################\n",
      "Temperature: 0.2\n",
      "####################\n",
      "the company said it will sell its n n stake in the new york based in the company\n",
      "\n",
      "the company said it will registration with the sale of its fleet of n to n and n n to n n\n",
      "\n",
      "the company said it will registration to buy back to n n of the total of $n million\n",
      "\n",
      "####################\n",
      "Temperature: 0.5\n",
      "####################\n",
      "the company said the sale will be used to reduce short interest payments to the company's shares outstanding\n",
      "\n",
      "the n n issue notes were priced at a yield to yield n basis points above the treasury's n note\n",
      "\n",
      "the company's announcement friday the company's decision by its first radar vans will be released by the end of november\n",
      "\n",
      "####################\n",
      "Temperature: 1.0\n",
      "####################\n",
      "whether the n yen corn rockwell manufacturing plant viewers will begin early next winter\n",
      "\n",
      "and timothy c c publisher of dealership said\n",
      "\n",
      "national intergroup which makes devices to acquire with the largest west\n",
      "\n",
      "834/834 [==============================] - 126s 151ms/step - loss: 2.7379 - val_loss: 5.3969\n"
     ]
    }
   ],
   "source": [
    "textgen = textgenrnn(name=model_name)\n",
    "\n",
    "train_function = textgen.train_from_file if train_cfg['line_delimited'] else textgen.train_from_largetext_file\n",
    "\n",
    "train_function(\n",
    "    file_path=file_name,\n",
    "    new_model=True,\n",
    "    num_epochs=train_cfg['num_epochs'],\n",
    "    gen_epochs=train_cfg['gen_epochs'],\n",
    "    batch_size=1024,\n",
    "    train_size=train_cfg['train_size'],\n",
    "    dropout=train_cfg['dropout'],\n",
    "    validation=train_cfg['validation'],\n",
    "    is_csv=train_cfg['is_csv'],\n",
    "    rnn_layers=model_cfg['rnn_layers'],\n",
    "    rnn_size=model_cfg['rnn_size'],\n",
    "    rnn_bidirectional=model_cfg['rnn_bidirectional'],\n",
    "    max_length=model_cfg['max_length'],\n",
    "    dim_embeddings=100,\n",
    "    word_level=model_cfg['word_level'],\n",
    "    dp=train_cfg['dp'],\n",
    "    noise_eta=train_cfg['noise_eta'],\n",
    "    noise_gamma=train_cfg['noise_gamma'],\n",
    "    clipnorm=train_cfg['clipnorm'],\n",
    ")"
   ]
  },
  {
   "cell_type": "code",
   "execution_count": 11,
   "metadata": {},
   "outputs": [
    {
     "data": {
      "text/plain": [
       "{'name': 'Adam',\n",
       " 'clipnorm': 1.0,\n",
       " 'learning_rate': 0.0004,\n",
       " 'decay': 0.0,\n",
       " 'beta_1': 0.9,\n",
       " 'beta_2': 0.999,\n",
       " 'epsilon': 1e-07,\n",
       " 'amsgrad': False,\n",
       " 'noise_eta': 0.20000000298023224,\n",
       " 'noise_gamma': 0.550000011920929}"
      ]
     },
     "execution_count": 11,
     "metadata": {},
     "output_type": "execute_result"
    }
   ],
   "source": [
    "textgen.model.optimizer.get_config()"
   ]
  },
  {
   "cell_type": "markdown",
   "metadata": {},
   "source": [
    "## Load and generate texts"
   ]
  },
  {
   "cell_type": "code",
   "execution_count": null,
   "metadata": {},
   "outputs": [],
   "source": [
    "model_name = \"0221_1730_word\"\n",
    "textgen = textgenrnn(name=model_name, \n",
    "                     vocab_path=model_name+\"_vocab.json\",\n",
    "                     config_path=model_name+\"_config.json\",\n",
    "                     weights_path=model_name+\"_weights.hdf5\")"
   ]
  },
  {
   "cell_type": "code",
   "execution_count": null,
   "metadata": {},
   "outputs": [],
   "source": [
    "temperature = [1.0, 0.5, 0.2]\n",
    "file_name = model_name+\"_generated_text.txt\"\n",
    "with open(file_name, \"w\") as f:\n",
    "    for temp in temperature:\n",
    "        f.write(f\"======= temperature: {temp} =======\\n\")\n",
    "        f.write(\"\\n\".join(textgen.generate(10, temperature=temp, return_as_list=True)))\n",
    "        f.write(\"\\n\")"
   ]
  }
 ],
 "metadata": {
  "accelerator": "GPU",
  "colab": {
   "collapsed_sections": [],
   "name": "Interactive textgenrnn Demo w/ GPU",
   "provenance": [],
   "toc_visible": true
  },
  "kernelspec": {
   "display_name": "Python 3",
   "language": "python",
   "name": "python3"
  },
  "language_info": {
   "codemirror_mode": {
    "name": "ipython",
    "version": 3
   },
   "file_extension": ".py",
   "mimetype": "text/x-python",
   "name": "python",
   "nbconvert_exporter": "python",
   "pygments_lexer": "ipython3",
   "version": "3.6.9"
  }
 },
 "nbformat": 4,
 "nbformat_minor": 1
}
